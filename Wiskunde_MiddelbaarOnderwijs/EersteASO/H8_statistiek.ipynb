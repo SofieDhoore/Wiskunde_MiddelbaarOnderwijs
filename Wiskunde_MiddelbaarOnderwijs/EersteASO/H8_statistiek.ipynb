{
 "cells": [
  {
   "cell_type": "markdown",
   "id": "8ee105f2",
   "metadata": {},
   "source": [
    "# Hoofdstuk 8 Statistisch Onderzoek"
   ]
  },
  {
   "cell_type": "code",
   "execution_count": 3,
   "id": "e193802d",
   "metadata": {},
   "outputs": [
    {
     "name": "stdout",
     "output_type": "stream",
     "text": [
      "Collecting matplotlib\n",
      "  Downloading matplotlib-3.10.6-cp310-cp310-win_amd64.whl.metadata (11 kB)\n",
      "Collecting contourpy>=1.0.1 (from matplotlib)\n",
      "  Downloading contourpy-1.3.2-cp310-cp310-win_amd64.whl.metadata (5.5 kB)\n",
      "Collecting cycler>=0.10 (from matplotlib)\n",
      "  Using cached cycler-0.12.1-py3-none-any.whl.metadata (3.8 kB)\n",
      "Collecting fonttools>=4.22.0 (from matplotlib)\n",
      "  Downloading fonttools-4.60.1-cp310-cp310-win_amd64.whl.metadata (114 kB)\n",
      "Collecting kiwisolver>=1.3.1 (from matplotlib)\n",
      "  Downloading kiwisolver-1.4.9-cp310-cp310-win_amd64.whl.metadata (6.4 kB)\n",
      "Requirement already satisfied: numpy>=1.23 in c:\\users\\sofie\\opleiding tiao\\laikaotis\\.venv\\lib\\site-packages (from matplotlib) (2.2.4)\n",
      "Requirement already satisfied: packaging>=20.0 in c:\\users\\sofie\\opleiding tiao\\laikaotis\\.venv\\lib\\site-packages (from matplotlib) (24.2)\n",
      "Collecting pillow>=8 (from matplotlib)\n",
      "  Downloading pillow-11.3.0-cp310-cp310-win_amd64.whl.metadata (9.2 kB)\n",
      "Collecting pyparsing>=2.3.1 (from matplotlib)\n",
      "  Downloading pyparsing-3.2.5-py3-none-any.whl.metadata (5.0 kB)\n",
      "Requirement already satisfied: python-dateutil>=2.7 in c:\\users\\sofie\\opleiding tiao\\laikaotis\\.venv\\lib\\site-packages (from matplotlib) (2.9.0.post0)\n",
      "Requirement already satisfied: six>=1.5 in c:\\users\\sofie\\opleiding tiao\\laikaotis\\.venv\\lib\\site-packages (from python-dateutil>=2.7->matplotlib) (1.17.0)\n",
      "Downloading matplotlib-3.10.6-cp310-cp310-win_amd64.whl (8.1 MB)\n",
      "   ---------------------------------------- 0.0/8.1 MB ? eta -:--:--\n",
      "   - -------------------------------------- 0.3/8.1 MB ? eta -:--:--\n",
      "   -- ------------------------------------- 0.5/8.1 MB 1.7 MB/s eta 0:00:05\n",
      "   ------ --------------------------------- 1.3/8.1 MB 2.2 MB/s eta 0:00:04\n",
      "   --------- ------------------------------ 1.8/8.1 MB 2.3 MB/s eta 0:00:03\n",
      "   ----------- ---------------------------- 2.4/8.1 MB 2.5 MB/s eta 0:00:03\n",
      "   -------------- ------------------------- 2.9/8.1 MB 2.4 MB/s eta 0:00:03\n",
      "   ---------------- ----------------------- 3.4/8.1 MB 2.4 MB/s eta 0:00:02\n",
      "   ------------------- -------------------- 3.9/8.1 MB 2.4 MB/s eta 0:00:02\n",
      "   --------------------- ------------------ 4.5/8.1 MB 2.4 MB/s eta 0:00:02\n",
      "   ------------------------ --------------- 5.0/8.1 MB 2.4 MB/s eta 0:00:02\n",
      "   ---------------------------- ----------- 5.8/8.1 MB 2.5 MB/s eta 0:00:01\n",
      "   ------------------------------- -------- 6.3/8.1 MB 2.6 MB/s eta 0:00:01\n",
      "   --------------------------------- ------ 6.8/8.1 MB 2.5 MB/s eta 0:00:01\n",
      "   ---------------------------------- ----- 7.1/8.1 MB 2.6 MB/s eta 0:00:01\n",
      "   ------------------------------------ --- 7.3/8.1 MB 2.3 MB/s eta 0:00:01\n",
      "   -------------------------------------- - 7.9/8.1 MB 2.3 MB/s eta 0:00:01\n",
      "   ---------------------------------------- 8.1/8.1 MB 2.4 MB/s eta 0:00:00\n",
      "Downloading contourpy-1.3.2-cp310-cp310-win_amd64.whl (221 kB)\n",
      "Using cached cycler-0.12.1-py3-none-any.whl (8.3 kB)\n",
      "Downloading fonttools-4.60.1-cp310-cp310-win_amd64.whl (2.3 MB)\n",
      "   ---------------------------------------- 0.0/2.3 MB ? eta -:--:--\n",
      "   ---- ----------------------------------- 0.3/2.3 MB ? eta -:--:--\n",
      "   ------------- -------------------------- 0.8/2.3 MB 2.2 MB/s eta 0:00:01\n",
      "   ----------------------- ---------------- 1.3/2.3 MB 2.6 MB/s eta 0:00:01\n",
      "   --------------------------- ------------ 1.6/2.3 MB 2.6 MB/s eta 0:00:01\n",
      "   ------------------------------------ --- 2.1/2.3 MB 2.1 MB/s eta 0:00:01\n",
      "   ---------------------------------------- 2.3/2.3 MB 2.1 MB/s eta 0:00:00\n",
      "Downloading kiwisolver-1.4.9-cp310-cp310-win_amd64.whl (73 kB)\n",
      "Downloading pillow-11.3.0-cp310-cp310-win_amd64.whl (7.0 MB)\n",
      "   ---------------------------------------- 0.0/7.0 MB ? eta -:--:--\n",
      "   - -------------------------------------- 0.3/7.0 MB ? eta -:--:--\n",
      "   --- ------------------------------------ 0.5/7.0 MB 2.4 MB/s eta 0:00:03\n",
      "   ------ --------------------------------- 1.0/7.0 MB 1.8 MB/s eta 0:00:04\n",
      "   --------- ------------------------------ 1.6/7.0 MB 2.0 MB/s eta 0:00:03\n",
      "   ---------- ----------------------------- 1.8/7.0 MB 2.0 MB/s eta 0:00:03\n",
      "   ------------- -------------------------- 2.4/7.0 MB 2.0 MB/s eta 0:00:03\n",
      "   ---------------- ----------------------- 2.9/7.0 MB 2.1 MB/s eta 0:00:02\n",
      "   ------------------- -------------------- 3.4/7.0 MB 2.1 MB/s eta 0:00:02\n",
      "   ---------------------- ----------------- 3.9/7.0 MB 2.1 MB/s eta 0:00:02\n",
      "   ------------------------- -------------- 4.5/7.0 MB 2.2 MB/s eta 0:00:02\n",
      "   --------------------------- ------------ 4.7/7.0 MB 2.2 MB/s eta 0:00:02\n",
      "   ------------------------------- -------- 5.5/7.0 MB 2.3 MB/s eta 0:00:01\n",
      "   ---------------------------------- ----- 6.0/7.0 MB 2.3 MB/s eta 0:00:01\n",
      "   ------------------------------------- -- 6.6/7.0 MB 2.4 MB/s eta 0:00:01\n",
      "   ---------------------------------------- 7.0/7.0 MB 2.4 MB/s eta 0:00:00\n",
      "Downloading pyparsing-3.2.5-py3-none-any.whl (113 kB)\n",
      "Installing collected packages: pyparsing, pillow, kiwisolver, fonttools, cycler, contourpy, matplotlib\n",
      "Successfully installed contourpy-1.3.2 cycler-0.12.1 fonttools-4.60.1 kiwisolver-1.4.9 matplotlib-3.10.6 pillow-11.3.0 pyparsing-3.2.5\n",
      "Note: you may need to restart the kernel to use updated packages.\n"
     ]
    },
    {
     "name": "stderr",
     "output_type": "stream",
     "text": [
      "\n",
      "[notice] A new release of pip is available: 25.0.1 -> 25.2\n",
      "[notice] To update, run: python.exe -m pip install --upgrade pip\n"
     ]
    }
   ],
   "source": [
    "%pip install matplotlib"
   ]
  },
  {
   "cell_type": "code",
   "execution_count": 5,
   "id": "d33f8ffc",
   "metadata": {},
   "outputs": [],
   "source": [
    "import numpy as np\n",
    "import pandas as pd\n",
    "import matplotlib.pyplot as plt"
   ]
  },
  {
   "cell_type": "markdown",
   "id": "2b3942dc",
   "metadata": {},
   "source": [
    "## Oefening 3"
   ]
  },
  {
   "cell_type": "code",
   "execution_count": 6,
   "id": "6c745621",
   "metadata": {},
   "outputs": [],
   "source": [
    "soepplot = {'soep': ['aspergesoep', 'tomatensoep', 'kippensoep', 'groentesoep', 'pompoensoep'], \n",
    "            'aantal': [2, 7, 6, 4, 4]}"
   ]
  },
  {
   "cell_type": "code",
   "execution_count": 7,
   "id": "a4ace66a",
   "metadata": {},
   "outputs": [],
   "source": [
    "df = pd.DataFrame(soepplot)"
   ]
  },
  {
   "cell_type": "code",
   "execution_count": 10,
   "id": "357bf3b6",
   "metadata": {},
   "outputs": [
    {
     "data": {
      "text/plain": [
       "<BarContainer object of 5 artists>"
      ]
     },
     "execution_count": 10,
     "metadata": {},
     "output_type": "execute_result"
    },
    {
     "data": {
      "image/png": "[encoded data removed]",
      "text/plain": [
       "<Figure size 640x480 with 1 Axes>"
      ]
     },
     "metadata": {},
     "output_type": "display_data"
    }
   ],
   "source": [
    "plt.bar(soepplot['soep'], soepplot['aantal'])"
   ]
  }
 ],
 "metadata": {
  "kernelspec": {
   "display_name": ".venv",
   "language": "python",
   "name": "python3"
  },
  "language_info": {
   "codemirror_mode": {
    "name": "ipython",
    "version": 3
   },
   "file_extension": ".py",
   "mimetype": "text/x-python",
   "name": "python",
   "nbconvert_exporter": "python",
   "pygments_lexer": "ipython3",
   "version": "3.10.11"
  }
 },
 "nbformat": 4,
 "nbformat_minor": 5
}
